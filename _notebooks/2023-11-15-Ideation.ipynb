{
 "cells": [
  {
   "cell_type": "markdown",
   "metadata": {},
   "source": [
    "---\n",
    "toc: true\n",
    "comments: true\n",
    "layout: post\n",
    "title: Ideation Review\n",
    "courses: { csa: {week: 3} }\n",
    "type: hacks\n",
    "permalink: /ideation\n",
    "---"
   ]
  },
  {
   "cell_type": "markdown",
   "metadata": {},
   "source": [
    "# Using the Fibonacci Sequence for Stock Price Analysis\n",
    "\n",
    "- **Backend with Java Spring:**\n",
    "   1. **Spring Boot Project:**\n",
    "      - Set up a Spring Boot project using Maven or Gradle.\n",
    "      - Use Spring MVC for handling HTTP requests.\n",
    "   2. **Database and JPA:**\n",
    "      - Choose a relational database like SQLite\n",
    "      - Utilize Spring Data JPA for seamless database interactions.\n",
    "   3. **Financial Data API Integration:**\n",
    "      - Integrate a Yahoo finance API to fetch historical stock prices. ---> `Adi`\n",
    "   4. **Fibonacci Calculation:**\n",
    "      - Implement a service to calculate Fibonacci retracement levels based on historical stock data.\n",
    "      - Define endpoints in a Spring Controller to expose this functionality. ---> `Rohin and Parav collab`\n",
    "  5. **Sorting**\n",
    "     - sort for Fibonacci common retracement numbers like 23.8% or 0.238 in the historic stocks data --> `Adi & Parav collab`\n",
    "     - Add big 0 notation analysis for the sorting using different sorting algorithms to show the effectiveness and usecase of each --> `Adi and Rohin Collab`\n",
    "\n",
    "- **Frontend with Jekyll:** --> `Parav`\n",
    "   1. **HTML and Liquid Templating:**\n",
    "      - Use HTML and Liquid templating to structure the frontend.\n",
    "   2. **Styling with CSS:**\n",
    "      - Apply SCSS for styling. \n",
    "   3. **Chart Integration:**\n",
    "      - Integrate a JavaScript charting library compatible with Jekyll, such as Chart.js.\n",
    "      - Display stock prices and Fibonacci retracement levels on the charts.\n",
    "   4. **Testing and Deployment:**\n",
    "      - Test your Java Spring backend and Jekyll frontend components independently.\n",
    "      - Deploy the Spring Boot application on a platform like Heroku or AWS.\n",
    "      - Host the Jekyll frontend on platforms like GitHub Pages or Netlify.\n",
    "\n",
    "Example Usecase of Yahoo api:\n",
    "![image](https://github.com/divorced-coders/divorce-analysis-frontend/assets/108041389/0c9a1754-c3b8-4863-a1e3-eff596b752b7)\n",
    "\n",
    "Backend Visual: \n",
    "![image](https://github.com/divorced-coders/divorce-analysis-frontend/assets/108041389/c2fa8f9d-f11a-4210-9d25-3bd153886499)\n",
    "\n",
    "Frontend Visual:\n",
    "![image](https://github.com/divorced-coders/divorce-analysis-frontend/assets/111609656/508fd382-bdf4-4660-9a71-05b50144deed)\n",
    "\n",
    "Yahoo Finance API Data:\n",
    "![image](https://github.com/divorced-coders/divorce-analysis-frontend/assets/111609656/47df4c46-da0a-4842-a637-b1aa03c194cd)"
   ]
  }
 ],
 "metadata": {
  "language_info": {
   "name": "python"
  }
 },
 "nbformat": 4,
 "nbformat_minor": 2
}
